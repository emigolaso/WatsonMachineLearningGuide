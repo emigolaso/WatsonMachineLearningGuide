{
 "cells": [
  {
   "cell_type": "markdown",
   "metadata": {},
   "source": [
    "# Online, Batch, and Function Deployment/Scoring in IBM Cloud Pak for Data with WML Python Client\n",
    "#### Updated for Cloud Pak for Data 3.0  <br>\n",
    "\n",
    "* The purpose of this notebook is to demo how to <b>DEPLOY</b> and <b>SCORE</b> your ML Models using the WML Python Client.\n",
    "* IBM CP4D is 1 of 6 enterprise-grade container software solutions designed to move and manage on cloud. More info on this exciting, cutting-edge technology can be found [HERE.](https://www.ibm.com/blogs/cloud-computing/2019/06/10/what-are-ibm-cloud-paks/) \n",
    "* An <b>Random Forest</b> model trained on the <b>Kaggle Iris Dataseta</b> is deployed, and scored via <b>Batch,Online, and Function</b> methods.\n",
    "\n",
    "<br> <b>*** Please Note:</b> There are several ways to deploy models on Watson ML. We are focusing on the 'Python Client' method. Other methods are in the watson-machine-learning-client documentation\n",
    "\n",
    "### Notebook Layout\n",
    "* <b>Section 1: Packages and EDA </b> \n",
    "* <b>Section 2: Model Training and Building </b> \n",
    "* <b>Section 3: WML Client Instantiation </b>\n",
    "<br>\n",
    "&ensp; <b>3a:</b> Generate IBM Identity Access Management (IAM) Token for IBM Cloud Pak for Data (CP4D)\n",
    "<br>\n",
    "&ensp; <b>3b:</b> Authenticate and Create WML Python Client Object\n",
    "<br>\n",
    "&ensp; <b>3c:</b> Persist the Trained Model\n",
    "<br>\n",
    "* <b>Section 4: Deployments </b>\n",
    "<br>\n",
    "&ensp; <b>4a:</b> Create and/or set Deployment Space\n",
    "<br>\n",
    "&ensp; <b>4b:</b> Online Deployment\n",
    "<br>\n",
    "&ensp; <b>4c:</b> Batch Deployment\n",
    "* <b>Section 5: Scoring </b> \n",
    "<br>\n",
    "&ensp; <b>5a:</b> Online Scoring - Using REST API Endpoint\n",
    "<br>\n",
    "&ensp; <b>5b:</b> Online Scoring - Using WML Python Client\n",
    "<br>\n",
    "&ensp; <b>5c:</b> Batch Scoring\n",
    "* <b>Section 6: Function Deployments </b> \n",
    "<br>\n",
    "&ensp; <b>6a:</b> Package and Model Creation\n",
    "<br>\n",
    "&ensp; <b>6b:</b> Scoring Function Creation\n",
    "<br>\n",
    "&ensp; <b>6c:</b> Function Deployment and Scoring\n",
    "\n",
    "\n",
    "\n",
    "### Sources\n",
    "* <a href=\"https://www.kaggle.com/uciml/iris#Iris.csv\">KAGGLE IRIS DATASET</a>  Includes three iris species with 50 samples each as well as some properties about each flower.\n",
    "* <a href=\"https://dataplatform.cloud.ibm.com/docs/content/wsj/analyze-data/ml-authentication.html\">WML Auth INFO</a> The 'Authentication' overview section of the Watson Machine Learning info on IBM CLOUD Website.\n",
    "* <a href=\"https://dataplatform.cloud.ibm.com/docs/content/wsj/analyze-data/ml-deploy_new.html?audience=wdp\">WML Deployment GEN INFO</a>  The 'Deployment' overview section of the Watson Machine Learning info on IBM CLOUD Website.\n",
    "* <a href=\"https://matplotlib.org/\">WML Deployment DOCS</a>  the watson-machine-learning-client documentation.\n",
    "* <a href=\"https://matplotlib.org/\">WML Deployment V4 DOCS</a>  the watson-machine-learning-client_v4 documentation. More detailed and developer orientated documentation.\n"
   ]
  },
  {
   "cell_type": "markdown",
   "metadata": {},
   "source": [
    "## Section 1: Packages and EDA\n",
    "\n",
    "<br>\n",
    "Here are some quick summary statistics of the Iris Dataset:\n",
    "\n",
    "* <b>Columns</b>: Id, SepalLengthCm, SepalWidthCm, PetalLengthCm, PetalWidthCm, Species\n",
    "* <b>Observations</b>: 150\n",
    "* <b>Classes</b>: Iris-virginica (50), Iris-versicolor (50), Iris-setosa (50)\n",
    "\n"
   ]
  },
  {
   "cell_type": "code",
   "execution_count": 1,
   "metadata": {
    "scrolled": true
   },
   "outputs": [
    {
     "name": "stdout",
     "output_type": "stream",
     "text": [
      "Requirement already satisfied: six>=1.5 in /user-home/_global_/python-3 (from python-dateutil>=2.5.0->pandas>=0.11.0->sklearn_pandas) (1.12.0)\r\n"
     ]
    }
   ],
   "source": [
    "import pandas as pd \n",
    "import numpy as np \n",
    "\n",
    "#Modeling Packages\n",
    "!pip install sklearn_pandas | tail -n 1\n",
    "import sklearn \n",
    "from sklearn.model_selection import train_test_split\n",
    "from sklearn.preprocessing import LabelEncoder\n",
    "from sklearn.ensemble import RandomForestClassifier\n",
    "\n",
    "#Packges for IAM Access Token \n",
    "import json\n",
    "import requests\n",
    "import base64\n",
    "from requests.auth import HTTPBasicAuth\n",
    "import time\n",
    "import warnings\n",
    "\n",
    "#Packages for WML Client\n",
    "from watson_machine_learning_client import WatsonMachineLearningAPIClient\n",
    "import os\n",
    "\n",
    "#Packages to work with Custom Tranformer and Model Packaging\n",
    "from sklearn.externals import joblib\n",
    "import sys"
   ]
  },
  {
   "cell_type": "code",
   "execution_count": 2,
   "metadata": {
    "scrolled": false
   },
   "outputs": [
    {
     "data": {
      "text/html": [
       "<div>\n",
       "<style scoped>\n",
       "    .dataframe tbody tr th:only-of-type {\n",
       "        vertical-align: middle;\n",
       "    }\n",
       "\n",
       "    .dataframe tbody tr th {\n",
       "        vertical-align: top;\n",
       "    }\n",
       "\n",
       "    .dataframe thead th {\n",
       "        text-align: right;\n",
       "    }\n",
       "</style>\n",
       "<table border=\"1\" class=\"dataframe\">\n",
       "  <thead>\n",
       "    <tr style=\"text-align: right;\">\n",
       "      <th></th>\n",
       "      <th>Id</th>\n",
       "      <th>SepalLengthCm</th>\n",
       "      <th>SepalWidthCm</th>\n",
       "      <th>PetalLengthCm</th>\n",
       "      <th>PetalWidthCm</th>\n",
       "    </tr>\n",
       "  </thead>\n",
       "  <tbody>\n",
       "    <tr>\n",
       "      <th>count</th>\n",
       "      <td>150.000000</td>\n",
       "      <td>150.000000</td>\n",
       "      <td>150.000000</td>\n",
       "      <td>150.000000</td>\n",
       "      <td>150.000000</td>\n",
       "    </tr>\n",
       "    <tr>\n",
       "      <th>mean</th>\n",
       "      <td>75.500000</td>\n",
       "      <td>5.843333</td>\n",
       "      <td>3.054000</td>\n",
       "      <td>3.758667</td>\n",
       "      <td>1.198667</td>\n",
       "    </tr>\n",
       "    <tr>\n",
       "      <th>std</th>\n",
       "      <td>43.445368</td>\n",
       "      <td>0.828066</td>\n",
       "      <td>0.433594</td>\n",
       "      <td>1.764420</td>\n",
       "      <td>0.763161</td>\n",
       "    </tr>\n",
       "    <tr>\n",
       "      <th>min</th>\n",
       "      <td>1.000000</td>\n",
       "      <td>4.300000</td>\n",
       "      <td>2.000000</td>\n",
       "      <td>1.000000</td>\n",
       "      <td>0.100000</td>\n",
       "    </tr>\n",
       "    <tr>\n",
       "      <th>25%</th>\n",
       "      <td>38.250000</td>\n",
       "      <td>5.100000</td>\n",
       "      <td>2.800000</td>\n",
       "      <td>1.600000</td>\n",
       "      <td>0.300000</td>\n",
       "    </tr>\n",
       "    <tr>\n",
       "      <th>50%</th>\n",
       "      <td>75.500000</td>\n",
       "      <td>5.800000</td>\n",
       "      <td>3.000000</td>\n",
       "      <td>4.350000</td>\n",
       "      <td>1.300000</td>\n",
       "    </tr>\n",
       "    <tr>\n",
       "      <th>75%</th>\n",
       "      <td>112.750000</td>\n",
       "      <td>6.400000</td>\n",
       "      <td>3.300000</td>\n",
       "      <td>5.100000</td>\n",
       "      <td>1.800000</td>\n",
       "    </tr>\n",
       "    <tr>\n",
       "      <th>max</th>\n",
       "      <td>150.000000</td>\n",
       "      <td>7.900000</td>\n",
       "      <td>4.400000</td>\n",
       "      <td>6.900000</td>\n",
       "      <td>2.500000</td>\n",
       "    </tr>\n",
       "  </tbody>\n",
       "</table>\n",
       "</div>"
      ],
      "text/plain": [
       "               Id  SepalLengthCm  SepalWidthCm  PetalLengthCm  PetalWidthCm\n",
       "count  150.000000     150.000000    150.000000     150.000000    150.000000\n",
       "mean    75.500000       5.843333      3.054000       3.758667      1.198667\n",
       "std     43.445368       0.828066      0.433594       1.764420      0.763161\n",
       "min      1.000000       4.300000      2.000000       1.000000      0.100000\n",
       "25%     38.250000       5.100000      2.800000       1.600000      0.300000\n",
       "50%     75.500000       5.800000      3.000000       4.350000      1.300000\n",
       "75%    112.750000       6.400000      3.300000       5.100000      1.800000\n",
       "max    150.000000       7.900000      4.400000       6.900000      2.500000"
      ]
     },
     "execution_count": 2,
     "metadata": {},
     "output_type": "execute_result"
    }
   ],
   "source": [
    "df = pd.read_csv('/project_data/data_asset/Iris.csv')\n",
    "df.describe() "
   ]
  },
  {
   "cell_type": "code",
   "execution_count": 3,
   "metadata": {},
   "outputs": [
    {
     "data": {
      "text/plain": [
       "Iris-virginica     50\n",
       "Iris-setosa        50\n",
       "Iris-versicolor    50\n",
       "Name: Species, dtype: int64"
      ]
     },
     "execution_count": 3,
     "metadata": {},
     "output_type": "execute_result"
    }
   ],
   "source": [
    "df.Species.value_counts()"
   ]
  },
  {
   "cell_type": "markdown",
   "metadata": {},
   "source": [
    "## Section 2: Model Training and Building\n",
    "\n",
    "* <b>Data Transformations:</b> The dependent variable, Species, is transformed with <b>LabelEncoder</b>. Classes are 0,1,2 for Iris-virginica, Iris-versicolor, and Iris-setosa respectively. \n",
    "* <b>Estimator:</b> <b>Random Forest</b> classifier. There is no parameter tuning. \n",
    "* <b>Results:</b> 93% global accuracy.\n",
    "\n",
    "<br> <b>*** Please Note:</b> This notebook focuses on deployments, not model building/tuning. "
   ]
  },
  {
   "cell_type": "code",
   "execution_count": 4,
   "metadata": {},
   "outputs": [],
   "source": [
    "spec_encode = LabelEncoder().fit(df.Species)\n",
    "df['Species'] = spec_encode.transform(df.Species)"
   ]
  },
  {
   "cell_type": "code",
   "execution_count": 5,
   "metadata": {},
   "outputs": [
    {
     "data": {
      "text/html": [
       "<div>\n",
       "<style scoped>\n",
       "    .dataframe tbody tr th:only-of-type {\n",
       "        vertical-align: middle;\n",
       "    }\n",
       "\n",
       "    .dataframe tbody tr th {\n",
       "        vertical-align: top;\n",
       "    }\n",
       "\n",
       "    .dataframe thead th {\n",
       "        text-align: right;\n",
       "    }\n",
       "</style>\n",
       "<table border=\"1\" class=\"dataframe\">\n",
       "  <thead>\n",
       "    <tr style=\"text-align: right;\">\n",
       "      <th></th>\n",
       "      <th>Id</th>\n",
       "      <th>SepalLengthCm</th>\n",
       "      <th>SepalWidthCm</th>\n",
       "      <th>PetalLengthCm</th>\n",
       "      <th>PetalWidthCm</th>\n",
       "      <th>Species</th>\n",
       "    </tr>\n",
       "  </thead>\n",
       "  <tbody>\n",
       "    <tr>\n",
       "      <th>0</th>\n",
       "      <td>1</td>\n",
       "      <td>5.1</td>\n",
       "      <td>3.5</td>\n",
       "      <td>1.4</td>\n",
       "      <td>0.2</td>\n",
       "      <td>0</td>\n",
       "    </tr>\n",
       "    <tr>\n",
       "      <th>1</th>\n",
       "      <td>2</td>\n",
       "      <td>4.9</td>\n",
       "      <td>3.0</td>\n",
       "      <td>1.4</td>\n",
       "      <td>0.2</td>\n",
       "      <td>0</td>\n",
       "    </tr>\n",
       "    <tr>\n",
       "      <th>2</th>\n",
       "      <td>3</td>\n",
       "      <td>4.7</td>\n",
       "      <td>3.2</td>\n",
       "      <td>1.3</td>\n",
       "      <td>0.2</td>\n",
       "      <td>0</td>\n",
       "    </tr>\n",
       "    <tr>\n",
       "      <th>3</th>\n",
       "      <td>4</td>\n",
       "      <td>4.6</td>\n",
       "      <td>3.1</td>\n",
       "      <td>1.5</td>\n",
       "      <td>0.2</td>\n",
       "      <td>0</td>\n",
       "    </tr>\n",
       "    <tr>\n",
       "      <th>4</th>\n",
       "      <td>5</td>\n",
       "      <td>5.0</td>\n",
       "      <td>3.6</td>\n",
       "      <td>1.4</td>\n",
       "      <td>0.2</td>\n",
       "      <td>0</td>\n",
       "    </tr>\n",
       "  </tbody>\n",
       "</table>\n",
       "</div>"
      ],
      "text/plain": [
       "   Id  SepalLengthCm  SepalWidthCm  PetalLengthCm  PetalWidthCm  Species\n",
       "0   1            5.1           3.5            1.4           0.2        0\n",
       "1   2            4.9           3.0            1.4           0.2        0\n",
       "2   3            4.7           3.2            1.3           0.2        0\n",
       "3   4            4.6           3.1            1.5           0.2        0\n",
       "4   5            5.0           3.6            1.4           0.2        0"
      ]
     },
     "execution_count": 5,
     "metadata": {},
     "output_type": "execute_result"
    }
   ],
   "source": [
    "df.head()"
   ]
  },
  {
   "cell_type": "code",
   "execution_count": 6,
   "metadata": {},
   "outputs": [],
   "source": [
    "X = df.drop(['Id','Species'], axis = 1)\n",
    "y = df.Species\n",
    "X_train, X_test, y_train, y_test = train_test_split(X, y, test_size=0.2, random_state=42, stratify=y)"
   ]
  },
  {
   "cell_type": "code",
   "execution_count": 7,
   "metadata": {},
   "outputs": [],
   "source": [
    "random_forest = RandomForestClassifier()\n",
    "model= random_forest.fit( X_train, y_train )"
   ]
  },
  {
   "cell_type": "code",
   "execution_count": 8,
   "metadata": {},
   "outputs": [
    {
     "name": "stdout",
     "output_type": "stream",
     "text": [
      "              precision    recall  f1-score   support\n",
      "\n",
      "           0       1.00      1.00      1.00        10\n",
      "           1       1.00      0.90      0.95        10\n",
      "           2       0.91      1.00      0.95        10\n",
      "\n",
      "   micro avg       0.97      0.97      0.97        30\n",
      "   macro avg       0.97      0.97      0.97        30\n",
      "weighted avg       0.97      0.97      0.97        30\n",
      "\n"
     ]
    }
   ],
   "source": [
    "# call model.predict() on your X_test data to make a set of test predictions\n",
    "y_prediction = model.predict( X_test )\n",
    "# test your predictions using sklearn.classification_report()\n",
    "report = sklearn.metrics.classification_report( y_test, y_prediction )\n",
    "# and print the report\n",
    "print(report)"
   ]
  },
  {
   "cell_type": "markdown",
   "metadata": {},
   "source": [
    "## Section 3: WML Client Instantiation\n"
   ]
  },
  {
   "cell_type": "markdown",
   "metadata": {},
   "source": [
    "### 3a: Generate IBM Identity Access Management (IAM) Token for IBM Cloud Pak for Data (CP4D)\n",
    "\n",
    "* You need an IAM token to instantiate a Python Client Object\n",
    "* <b>Inputs:</b> Username, password, and url **(or IP, port pair)** of your CP4D cluster <br> \n",
    "&emsp; If you are in the CP4D instance, calling **os.environ['RUNTIME_ENV_APSX_URL']** will return the url <br>\n",
    "&emsp; If you are not in a CP4D instance, the URL can be found on the **'Lets Get Stared'** page <br>\n",
    "&emsp; **OR** If you are not in a CP4D instance, the URL is also the ip, port pair combo. **Ex: https://< xyz-web-or-ip >:< port number >**\n",
    "<br><br>  \n",
    "<b>*** Please Note:</b> This generates an IAM token for CP4D <b>on private cloud.</b> The process is nuanced for IBM Public Cloud. You would need an API Key. Refer to documentation [for more info.](https://wml-api-pyclient-dev-v4.mybluemix.net/#requirements-applicable-only-for-ibm-cloud) "
   ]
  },
  {
   "cell_type": "code",
   "execution_count": 9,
   "metadata": {},
   "outputs": [],
   "source": [
    "CREDENTIALS = {\n",
    "                      \"username\": '<username>',\n",
    "                      \"password\": '<password>',\n",
    "                      # address should be replaced with ip, port pair to be used in scripts outside CP4D\n",
    "                      \"url\": 'https://<ip>:<port-number>'\n",
    "                   }\n",
    "\n",
    "\n",
    "def generate_access_token():\n",
    "    headers={}\n",
    "    headers[\"Accept\"] = \"application/json\"\n",
    "    auth = HTTPBasicAuth(CREDENTIALS[\"username\"], CREDENTIALS[\"password\"])\n",
    "    \n",
    "    CP4D_TOKEN_URL= CREDENTIALS[\"url\"] + \"/v1/preauth/validateAuth\"\n",
    "    \n",
    "    response = requests.get(CP4D_TOKEN_URL, headers=headers, auth=auth, verify=False)\n",
    "    json_data = response.json()\n",
    "    cp4d_access_token = json_data['accessToken']\n",
    "    return cp4d_access_token\n",
    "\n",
    "token = generate_access_token()"
   ]
  },
  {
   "cell_type": "markdown",
   "metadata": {},
   "source": [
    "### 3b: Authenticate and Create WML Python Client Object \n",
    "\n",
    "* Once you have your IAM token, you can create a WML Python Client Object. \n",
    "* <b>INPUTS:</b> \n",
    "<br>\n",
    "&ensp; <b>Token:</b> IAM token obtained in step 3A\n",
    "<br>\n",
    "&ensp; <b>Instance Id:</b> Set to 'ICP' or 'Openshift' depending on what platform Watson Studio is running on.\n",
    "<br>\n",
    "&ensp; <b>Url:</b> IP, port pair of where Watson Studio is located.\n",
    "<br>\n",
    "&emsp; This can be found calling <b>os.environ['RUNTIME_ENV_APSX_URL']</b> if you are in ICP. \n",
    "<br>\n",
    "&emsp; You can also use the URL of the Watson Studio instance if you are in ICP (this was done in 3a).  \n",
    "<br>\n",
    "&ensp; <b>Version:</b> In our case, it is '3.0.0'. \n",
    "<br>\n",
    "&emsp; <b>If you are using CP4D 2.5</b>, the version would be set to '2.5.0'.\n",
    "<br><br>\n",
    "<b>*** Please Note:</b> This generates a client object for <b>ICP.</b> The process is nuanced for IBM Public Cloud. You would need an API Key and WML Instance ID. Refer to documentation <a href=\"https://wml-api-pyclient-dev-v4.mybluemix.net/#requirements-applicable-only-for-ibm-cloud\">for more info.</a> "
   ]
  },
  {
   "cell_type": "code",
   "execution_count": 10,
   "metadata": {},
   "outputs": [],
   "source": [
    "url= os.environ['RUNTIME_ENV_APSX_URL']\n",
    "\n",
    "wml_credentials = {\n",
    "   \"token\": token,\n",
    "   \"instance_id\" : \"openshift\",\n",
    "   \"url\": url,\n",
    "   \"version\": \"3.0.0\"\n",
    "}\n",
    "\n",
    "wml_client = WatsonMachineLearningAPIClient(wml_credentials)"
   ]
  },
  {
   "cell_type": "markdown",
   "metadata": {},
   "source": [
    "### 3c: Persist the trained model\n",
    "\n",
    "Sometimes you may want to save the model as a project asset before moving it into the deployment space. In order to use this function you will need access to the WML service. If you do not have access to WML you can create a model and save to the \"/project_data/data_asset/filename.joblib\" file-path. We will show you how to create a joblib later on in the tutorial.\n",
    "\n",
    "* Run the first cell to locate the Project Id and set the Project Space\n",
    "* The second cell checks to see if there are other models saved under the same name. If there is, the existing model is deleted.\n",
    "* The final cell stores the model, as well as the corresponding metadata to the project\n",
    "\n",
    "<br></br>\n",
    "**Some potential use cases for saving the model as a project asset are:**\n",
    "1. Perform unit tests to a pre-deployment model\n",
    "2. Have the ability to export model\n",
    "3. Save the state of a model to update later"
   ]
  },
  {
   "cell_type": "code",
   "execution_count": 11,
   "metadata": {},
   "outputs": [
    {
     "data": {
      "text/plain": [
       "'SUCCESS'"
      ]
     },
     "execution_count": 11,
     "metadata": {},
     "output_type": "execute_result"
    }
   ],
   "source": [
    "project_uid = os.environ['PROJECT_ID']\n",
    "wml_client.set.default_project(project_uid)"
   ]
  },
  {
   "cell_type": "code",
   "execution_count": 12,
   "metadata": {},
   "outputs": [],
   "source": [
    "MODEL_NAME = 'IRIS_RF_Model'\n",
    "for m in wml_client.repository.get_model_details()['resources']:\n",
    "    if m['entity']['name'] == MODEL_NAME:\n",
    "        wml_client.repository.delete(m['metadata']['guid'])"
   ]
  },
  {
   "cell_type": "code",
   "execution_count": 13,
   "metadata": {},
   "outputs": [],
   "source": [
    "model_metadata = {\n",
    "    wml_client.repository.ModelMetaNames.NAME: MODEL_NAME,\n",
    "    wml_client.repository.ModelMetaNames.DESCRIPTION: MODEL_NAME,\n",
    "    wml_client.repository.ModelMetaNames.RUNTIME_UID: \"scikit-learn_0.22-py3.6\",\n",
    "    wml_client.repository.ModelMetaNames.TYPE: \"scikit-learn_0.22\"\n",
    "}\n",
    "\n",
    "published_model_details = wml_client.repository.store_model(model=model, \n",
    "                                                            meta_props=model_metadata, \n",
    "                                                            training_data=X_train,\n",
    "                                                            training_target=y_train, \n",
    "                                                            feature_names = list(X_train.columns))"
   ]
  },
  {
   "cell_type": "markdown",
   "metadata": {},
   "source": [
    "## Section 4: Deployments"
   ]
  },
  {
   "cell_type": "markdown",
   "metadata": {},
   "source": [
    "### 4a: Create and/or Set Deployment Space\n",
    "\n",
    "* Setting a default Deployment Space or Project ID is <b>the first and mandatory step </b> in CP4D. This tells the client from where to push/pull information. \n",
    "* Because the focus is Deployments, a Deployment Space ID will be set. \n",
    "\n"
   ]
  },
  {
   "cell_type": "code",
   "execution_count": 14,
   "metadata": {},
   "outputs": [],
   "source": [
    "SPACE_NAME = \"IRIS_MODEL_SPACE\""
   ]
  },
  {
   "cell_type": "code",
   "execution_count": 15,
   "metadata": {},
   "outputs": [
    {
     "name": "stdout",
     "output_type": "stream",
     "text": [
      "Unsetting the project_id ...\n"
     ]
    },
    {
     "data": {
      "text/plain": [
       "'SUCCESS'"
      ]
     },
     "execution_count": 15,
     "metadata": {},
     "output_type": "execute_result"
    }
   ],
   "source": [
    "# If Space with same name, set new ID, if not, create new ID for project \n",
    "space_name = SPACE_NAME\n",
    "spaces = wml_client.spaces.get_details()['resources']\n",
    "space_id = None\n",
    "for space in spaces:\n",
    "    if space['entity']['name'] == space_name:\n",
    "        space_id = space[\"metadata\"][\"guid\"]\n",
    "if space_id is None:\n",
    "    space_id = wml_client.spaces.store(\n",
    "        meta_props={wml_client.spaces.ConfigurationMetaNames.NAME: space_name})[\"metadata\"][\"guid\"]\n",
    "wml_client.set.default_space(space_id)"
   ]
  },
  {
   "cell_type": "markdown",
   "metadata": {},
   "source": [
    "### 4b: Online Deployment\n",
    "\n",
    "&emsp; <b>TRAIN/BUILD</b> MODEL --> <b>STORE MODEL</b> IN DEPLOYMENT SPACE (CREATE ID) --> <b>DEPLOY MODEL</b> FROM DEPLOYMENT SPACE (CREATE ID) \n",
    "\n",
    "* Online and Batch deployment cycles are identical. A trained model is stored (in the deployment space) and subsequently deployed.\n",
    "* For Online Deployments: \n",
    "<br>\n",
    "&emsp; <b>1.</b> Model and deployment names are set <br>\n",
    "&emsp; <b>2.</b> Deployment space checked for any existing deployments set to what was named in Step1. If so, deployment and associated model are deleted. New ones are set.<br>\n",
    "&emsp; <b>3.</b> Model is pushed and stored in deployment space. Model ID created.<br> \n",
    "&emsp; &emsp; &emsp; For detailed steps on metadata for space storing, refer to the <a href=\"https://wml-api-pyclient.mybluemix.net/#repository\"> metadata documentation.</a> <br>\n",
    "&emsp; &emsp; &emsp; Accurate environment specifications are <b>essential.</b> For sepcification syntax, refer to <a href=\"https://www.ibm.com/support/producthub/icpdata/docs/content/SSQNUZ_current/wsj/wmls/wmls-deploy-python-types.html\">syntax documentation.</a> <br> \n",
    "&emsp; &emsp; &emsp; If using Scikit-Learn, use <b>sklearn.__version__</b> command to get scikit version and <b>! python --version</b> for python version <br>\n",
    "&emsp; <b>4.</b> Model is deployed from deployment space. Deployment ID created. <br>"
   ]
  },
  {
   "cell_type": "code",
   "execution_count": 16,
   "metadata": {},
   "outputs": [],
   "source": [
    "#1. Model and deployment names are set \n",
    "MODEL_NAME = 'IRIS_RF_Online'\n",
    "deployment_name = 'IRIS_RF_Online_Deployment'"
   ]
  },
  {
   "cell_type": "code",
   "execution_count": 17,
   "metadata": {},
   "outputs": [
    {
     "name": "stdout",
     "output_type": "stream",
     "text": [
      "Deleting deployment id e0c74ed8-257e-46c6-815a-5ccacba8cb26\n",
      "Deleting model id a406ae1d-4eb6-4a3e-9beb-fd2d70824e07\n"
     ]
    }
   ],
   "source": [
    "#2. Remove any deployments and associated models with same name\n",
    "deployment_details = wml_client.deployments.get_details()\n",
    "for deployment in deployment_details['resources']:\n",
    "    deployment_id = deployment['metadata']['guid']\n",
    "    model_id = deployment['entity']['asset']['href'].split('/')[3].split('?')[0]\n",
    "    if deployment['entity']['name'] == deployment_name:\n",
    "        print('Deleting deployment id', deployment_id)\n",
    "        wml_client.deployments.delete(deployment_id)\n",
    "        print('Deleting model id', model_id)\n",
    "        wml_client.repository.delete(model_id)"
   ]
  },
  {
   "cell_type": "code",
   "execution_count": 18,
   "metadata": {},
   "outputs": [],
   "source": [
    "#3. Save Model to Space \n",
    "space_metadata = {\n",
    "    wml_client.repository.ModelMetaNames.NAME: MODEL_NAME,\n",
    "    wml_client.repository.ModelMetaNames.TYPE: \"scikit-learn_0.22\",\n",
    "    wml_client.repository.ModelMetaNames.RUNTIME_UID: \"scikit-learn_0.22-py3.6\",\n",
    "    wml_client.repository.ModelMetaNames.TAGS: [{'value' : 'iris_online_tag'}],\n",
    "    wml_client.repository.ModelMetaNames.SPACE_UID: space_id\n",
    "}\n",
    "\n",
    "stored_model_details = wml_client.repository.store_model(model=model, meta_props=space_metadata)"
   ]
  },
  {
   "cell_type": "code",
   "execution_count": 19,
   "metadata": {},
   "outputs": [
    {
     "name": "stdout",
     "output_type": "stream",
     "text": [
      "\n",
      "\n",
      "#######################################################################################\n",
      "\n",
      "Synchronous deployment creation for uid: '593fe312-e581-44bd-8ce9-82da8d076e6f' started\n",
      "\n",
      "#######################################################################################\n",
      "\n",
      "\n",
      "initializing\n",
      "ready\n",
      "\n",
      "\n",
      "------------------------------------------------------------------------------------------------\n",
      "Successfully finished deployment creation, deployment_uid='9630b891-8017-41fa-a652-418bf02cc60d'\n",
      "------------------------------------------------------------------------------------------------\n",
      "\n",
      "\n"
     ]
    },
    {
     "data": {
      "text/plain": [
       "{'entity': {'asset': {'href': '/v4/models/593fe312-e581-44bd-8ce9-82da8d076e6f?space_id=fbf2dfb2-b7f2-4bd2-ab89-5d604458de45',\n",
       "   'id': '593fe312-e581-44bd-8ce9-82da8d076e6f'},\n",
       "  'custom': {},\n",
       "  'description': '',\n",
       "  'name': 'IRIS_RF_Online_Deployment',\n",
       "  'online': {},\n",
       "  'space': {'href': '/v4/spaces/fbf2dfb2-b7f2-4bd2-ab89-5d604458de45',\n",
       "   'id': 'fbf2dfb2-b7f2-4bd2-ab89-5d604458de45'},\n",
       "  'space_id': 'fbf2dfb2-b7f2-4bd2-ab89-5d604458de45',\n",
       "  'status': {'online_url': {'url': 'https://internal-nginx-svc:12443/v4/deployments/9630b891-8017-41fa-a652-418bf02cc60d/predictions'},\n",
       "   'state': 'ready'},\n",
       "  'tags': [{'value': 'iris_online_deployment_tag'}]},\n",
       " 'metadata': {'created_at': '2020-06-18T03:21:24.290Z',\n",
       "  'description': '',\n",
       "  'guid': '9630b891-8017-41fa-a652-418bf02cc60d',\n",
       "  'href': '/v4/deployments/9630b891-8017-41fa-a652-418bf02cc60d',\n",
       "  'id': '9630b891-8017-41fa-a652-418bf02cc60d',\n",
       "  'modified_at': '2020-06-18T03:21:24.290Z',\n",
       "  'name': 'IRIS_RF_Online_Deployment',\n",
       "  'parent': {'href': ''},\n",
       "  'space_id': 'fbf2dfb2-b7f2-4bd2-ab89-5d604458de45',\n",
       "  'tags': ['iris_online_deployment_tag']}}"
      ]
     },
     "execution_count": 19,
     "metadata": {},
     "output_type": "execute_result"
    }
   ],
   "source": [
    "#4. Deploy the model\n",
    "meta_props = {\n",
    "    wml_client.deployments.ConfigurationMetaNames.NAME: deployment_name,\n",
    "    wml_client.deployments.ConfigurationMetaNames.TAGS : [{'value' : 'iris_online_deployment_tag'}],\n",
    "    wml_client.deployments.ConfigurationMetaNames.ONLINE: {}\n",
    "}\n",
    "\n",
    "model_uid = stored_model_details[\"metadata\"][\"guid\"]\n",
    "wml_client.deployments.create(artifact_uid=model_uid, meta_props=meta_props)"
   ]
  },
  {
   "cell_type": "markdown",
   "metadata": {},
   "source": [
    "### 4c: Batch Deployment\n",
    "\n",
    "* Online and Batch deployment cycles are identical. A trained model is stored (in the deployment space) and subsequently deployed.\n",
    "* For Batch Deployments: \n",
    "<br>\n",
    "&emsp; <b>1.</b> Model and deployment names are set <br>\n",
    "&emsp; <b>2.</b> Deployment space checked for any existing deployments set to what was named in Step1. If so, deployment and associated model are deleted. New ones are set.<br>\n",
    "&emsp; <b>3.</b> Model is pushed and stored in deployment space. Model ID created.<br> \n",
    "&emsp; &emsp; &emsp; For detailed steps on metadata for space storing, refer to the <a href=\"https://wml-api-pyclient.mybluemix.net/#repository\"> metadata documentation.</a> <br>&emsp; &emsp; &emsp; Accurate environment specifications are <b>essential.</b> For sepcification syntax, refer to <a href=\"https://www.ibm.com/support/producthub/icpdata/docs/content/SSQNUZ_current/wsj/wmls/wmls-deploy-python-types.html\">syntax documentation.</a> <br> \n",
    "&emsp; &emsp; &emsp; If using Scikit-Learn, use <b>sklearn.__version__</b> command to get scikit version and <b>! python --version</b> for python version <br>\n",
    "&emsp; <b>4.</b> Model is deployed from deployment space. Deployment ID created. <br>"
   ]
  },
  {
   "cell_type": "code",
   "execution_count": 20,
   "metadata": {},
   "outputs": [],
   "source": [
    "#1. Model and deployment names are set \n",
    "MODEL_NAME = 'IRIS_RF_Batch'\n",
    "deployment_name = 'IRIS_RF_Batch_Deployment'"
   ]
  },
  {
   "cell_type": "code",
   "execution_count": 21,
   "metadata": {},
   "outputs": [
    {
     "name": "stdout",
     "output_type": "stream",
     "text": [
      "Deleting deployment id a812c8bb-49eb-410b-8b08-ea73cf3f8bd3\n",
      "Deleting model id c9fd30f6-6615-42c1-814b-f606d632722e\n"
     ]
    }
   ],
   "source": [
    "#2. Remove any deployments and associated models with same name\n",
    "deployment_details = wml_client.deployments.get_details()\n",
    "for deployment in deployment_details['resources']:\n",
    "    deployment_id = deployment['metadata']['guid']\n",
    "    model_id = deployment['entity']['asset']['href'].split('/')[3].split('?')[0]\n",
    "    if deployment['entity']['name'] == deployment_name:\n",
    "        print('Deleting deployment id', deployment_id)\n",
    "        wml_client.deployments.delete(deployment_id)\n",
    "        print('Deleting model id', model_id)\n",
    "        wml_client.repository.delete(model_id)"
   ]
  },
  {
   "cell_type": "code",
   "execution_count": 22,
   "metadata": {},
   "outputs": [],
   "source": [
    "#3. Save Model to Space \n",
    "space_metadata = {\n",
    "    wml_client.repository.ModelMetaNames.NAME: MODEL_NAME,\n",
    "    wml_client.repository.ModelMetaNames.TYPE: \"scikit-learn_0.22\",\n",
    "    wml_client.repository.ModelMetaNames.RUNTIME_UID: \"scikit-learn_0.22-py3.6\",\n",
    "    wml_client.repository.ModelMetaNames.TAGS: [{'value' : 'iris_batch_tag'}],\n",
    "    wml_client.repository.ModelMetaNames.SPACE_UID: space_id\n",
    "}\n",
    "\n",
    "stored_model_details = wml_client.repository.store_model(model=model, meta_props=space_metadata)"
   ]
  },
  {
   "cell_type": "code",
   "execution_count": 23,
   "metadata": {},
   "outputs": [
    {
     "name": "stdout",
     "output_type": "stream",
     "text": [
      "\n",
      "\n",
      "#######################################################################################\n",
      "\n",
      "Synchronous deployment creation for uid: 'e1c4b291-a729-4792-8b19-ee60391e806a' started\n",
      "\n",
      "#######################################################################################\n",
      "\n",
      "\n",
      "ready.\n",
      "\n",
      "\n",
      "------------------------------------------------------------------------------------------------\n",
      "Successfully finished deployment creation, deployment_uid='e1dcfc5e-8c86-4721-87d6-e98392c0bd4f'\n",
      "------------------------------------------------------------------------------------------------\n",
      "\n",
      "\n"
     ]
    },
    {
     "data": {
      "text/plain": [
       "{'entity': {'asset': {'href': '/v4/models/e1c4b291-a729-4792-8b19-ee60391e806a?space_id=fbf2dfb2-b7f2-4bd2-ab89-5d604458de45',\n",
       "   'id': 'e1c4b291-a729-4792-8b19-ee60391e806a'},\n",
       "  'batch': {},\n",
       "  'compute': {'name': 'S', 'nodes': 1},\n",
       "  'custom': {},\n",
       "  'description': '',\n",
       "  'name': 'IRIS_RF_Batch_Deployment',\n",
       "  'space': {'href': '/v4/spaces/fbf2dfb2-b7f2-4bd2-ab89-5d604458de45',\n",
       "   'id': 'fbf2dfb2-b7f2-4bd2-ab89-5d604458de45'},\n",
       "  'space_id': 'fbf2dfb2-b7f2-4bd2-ab89-5d604458de45',\n",
       "  'status': {'state': 'ready'},\n",
       "  'tags': [{'value': 'iris_batch_deployment_tag'}]},\n",
       " 'metadata': {'created_at': '2020-06-18T03:21:33.394Z',\n",
       "  'description': '',\n",
       "  'guid': 'e1dcfc5e-8c86-4721-87d6-e98392c0bd4f',\n",
       "  'href': '/v4/deployments/e1dcfc5e-8c86-4721-87d6-e98392c0bd4f',\n",
       "  'id': 'e1dcfc5e-8c86-4721-87d6-e98392c0bd4f',\n",
       "  'modified_at': '2020-06-18T03:21:33.394Z',\n",
       "  'name': 'IRIS_RF_Batch_Deployment',\n",
       "  'parent': {'href': ''},\n",
       "  'space_id': 'fbf2dfb2-b7f2-4bd2-ab89-5d604458de45',\n",
       "  'tags': ['iris_batch_deployment_tag']}}"
      ]
     },
     "execution_count": 23,
     "metadata": {},
     "output_type": "execute_result"
    }
   ],
   "source": [
    "#4. Deploy the model\n",
    "meta_props = {\n",
    "    wml_client.deployments.ConfigurationMetaNames.NAME: deployment_name,\n",
    "    wml_client.deployments.ConfigurationMetaNames.TAGS : [{'value' : 'iris_batch_deployment_tag'}],\n",
    "    wml_client.deployments.ConfigurationMetaNames.BATCH: {},\n",
    "    wml_client.deployments.ConfigurationMetaNames.COMPUTE: {\n",
    "        \"name\": \"S\",\n",
    "         \"nodes\": 1\n",
    "     }\n",
    " }\n",
    "\n",
    "model_uid = stored_model_details[\"metadata\"][\"guid\"]\n",
    "wml_client.deployments.create(artifact_uid=model_uid, meta_props=meta_props)"
   ]
  },
  {
   "cell_type": "markdown",
   "metadata": {},
   "source": [
    "## Section 5: Scoring"
   ]
  },
  {
   "cell_type": "markdown",
   "metadata": {},
   "source": [
    "### 5a: Online Scoring - Using REST API Endpoint\n",
    "\n",
    "* An Online Deployment can be accessed through the <b>Python Client</b>, <b>Command Line Interface (CLI)</b>, or <b>REST API.</b><br><br>\n",
    "* For Online Scoring through <b>REST API: </b>\n",
    "<br>\n",
    "&emsp; <b>1.</b> Define online deployment name and retrieve ID (your online model should have already been deployed).  <br>\n",
    "&emsp; <b>2.</b> Retrieve the Online URL by either constructing the Endpoint/URL or calling wml_client.deployments.get_details(< model id >). <br>\n",
    "&emsp; &emsp; &emsp; The URL construction in our case is <b>'< url where model is deployed >/v4/deployment< model id >/predictions'</b> <br>\n",
    "&emsp; &emsp; &emsp; The scoring Endpoint/URL can also be found by <b> clicking </b> on the deployment  </b> <br>\n",
    "&emsp; <b>3.</b> Construct authentication header (using IAM Token), scoring payload, and score results<br> \n",
    "&emsp; &emsp; &emsp; Boiler Code is used for the authentication header, payload constructer, and scoring. This can be found in the documentation.<br> \n",
    "&emsp; &emsp; &emsp;<b>***</b> ML Token is the IAM token defined in <b>Section 3</b><br> \n",
    "&emsp; &emsp; &emsp;<b>***</b> WML is a stickler for the payload input. Valid payloads for scoring are list of <b>values, pandas or numpy dataframes.</b><br>\n",
    "&emsp; &emsp; &emsp;<b>***</b> Online score by running <b>requests.post(< scoring url > , < scoring payload > , verify = False )</b><br>\n",
    "&emsp; <b>4.</b> Compile output. Compiling output is at user discretion."
   ]
  },
  {
   "cell_type": "code",
   "execution_count": 24,
   "metadata": {},
   "outputs": [
    {
     "name": "stdout",
     "output_type": "stream",
     "text": [
      "found id!\n"
     ]
    }
   ],
   "source": [
    "#1. Setting and finding deployment name \n",
    "online_deployment_name = 'IRIS_RF_Online_Deployment'\n",
    "online_deployment_id = None\n",
    "\n",
    "for dep in wml_client.deployments.get_details()['resources']:\n",
    "    if dep['entity']['name'] == online_deployment_name:\n",
    "        print('found id!')\n",
    "        online_deployment_id = dep['metadata']['guid']    ### HERE WE ARE FINDING CORRESPONDING DEPLOYMENT ID \n",
    "        break\n",
    "if online_deployment_id == None: print('did not find id')"
   ]
  },
  {
   "cell_type": "code",
   "execution_count": 25,
   "metadata": {},
   "outputs": [],
   "source": [
    "# Creating dummy score data\n",
    "sep_length = (8 - .8) * np.random.random_sample((50,)) + .8\n",
    "sep_width = (5 - .4) * np.random.random_sample((50,)) + .4\n",
    "pet_length = (7 - 1.7) * np.random.random_sample((50,)) + 1.7\n",
    "pet_width  = (3 - .7) * np.random.random_sample((50,)) + .7\n",
    "\n",
    "score_data = pd.DataFrame({'SepalLengthCm':sep_length,'SepalWidthCm':sep_width,'PetalLengthCm':pet_length,'PetalWidthCm':pet_width})"
   ]
  },
  {
   "cell_type": "code",
   "execution_count": 26,
   "metadata": {},
   "outputs": [],
   "source": [
    "#2. Constructing scoring URL \n",
    "def get_online_deployment_href(asset_id, url):\n",
    "    DATA_ASSET = u'{}/v4/deployments/{}/predictions'\n",
    "    return DATA_ASSET.format(url,asset_id)\n",
    "\n",
    "iris_online_href = get_online_deployment_href(online_deployment_id, CREDENTIALS['url'])"
   ]
  },
  {
   "cell_type": "code",
   "execution_count": 27,
   "metadata": {},
   "outputs": [],
   "source": [
    "#3. Construct authentication header, scoring payload, and score results \n",
    "mltoken = token\n",
    "header = {'Content-Type': 'application/json', 'Authorization': 'Bearer ' + mltoken}\n",
    "payload_scoring = {\"input_data\": [{\"fields\": score_data.columns.tolist(), \"values\": score_data.values.tolist()}]}\n",
    "response_scoring = requests.post(iris_online_href , json=payload_scoring, headers= header,verify = False)\n",
    "online_scoring_results = json.loads(response_scoring.text)"
   ]
  },
  {
   "cell_type": "code",
   "execution_count": 28,
   "metadata": {},
   "outputs": [],
   "source": [
    "#4. Compile Results\n",
    "score_result_columns = online_scoring_results['predictions'][0]['fields']\n",
    "score_result_data =online_scoring_results['predictions'][0]['values']\n",
    "\n",
    "online_result_df = score_data.copy()\n",
    "online_result_df['Predictions'] ,online_result_df['Probability'] = [x[0] for x in score_result_data ], [x[1] for x in score_result_data ]\n",
    "online_result_df['Predictions'] = spec_encode.inverse_transform(online_result_df['Predictions'])"
   ]
  },
  {
   "cell_type": "code",
   "execution_count": 29,
   "metadata": {},
   "outputs": [
    {
     "data": {
      "text/html": [
       "<div>\n",
       "<style scoped>\n",
       "    .dataframe tbody tr th:only-of-type {\n",
       "        vertical-align: middle;\n",
       "    }\n",
       "\n",
       "    .dataframe tbody tr th {\n",
       "        vertical-align: top;\n",
       "    }\n",
       "\n",
       "    .dataframe thead th {\n",
       "        text-align: right;\n",
       "    }\n",
       "</style>\n",
       "<table border=\"1\" class=\"dataframe\">\n",
       "  <thead>\n",
       "    <tr style=\"text-align: right;\">\n",
       "      <th></th>\n",
       "      <th>SepalLengthCm</th>\n",
       "      <th>SepalWidthCm</th>\n",
       "      <th>PetalLengthCm</th>\n",
       "      <th>PetalWidthCm</th>\n",
       "      <th>Predictions</th>\n",
       "      <th>Probability</th>\n",
       "    </tr>\n",
       "  </thead>\n",
       "  <tbody>\n",
       "    <tr>\n",
       "      <th>7</th>\n",
       "      <td>7.889010</td>\n",
       "      <td>3.340166</td>\n",
       "      <td>5.408251</td>\n",
       "      <td>2.975369</td>\n",
       "      <td>Iris-virginica</td>\n",
       "      <td>[0.0, 0.0, 1.0]</td>\n",
       "    </tr>\n",
       "    <tr>\n",
       "      <th>18</th>\n",
       "      <td>1.478927</td>\n",
       "      <td>4.230986</td>\n",
       "      <td>4.084285</td>\n",
       "      <td>1.771042</td>\n",
       "      <td>Iris-virginica</td>\n",
       "      <td>[0.1, 0.3, 0.6]</td>\n",
       "    </tr>\n",
       "    <tr>\n",
       "      <th>9</th>\n",
       "      <td>5.498212</td>\n",
       "      <td>4.495547</td>\n",
       "      <td>2.223028</td>\n",
       "      <td>2.014512</td>\n",
       "      <td>Iris-setosa</td>\n",
       "      <td>[0.4, 0.2, 0.4]</td>\n",
       "    </tr>\n",
       "    <tr>\n",
       "      <th>12</th>\n",
       "      <td>6.672595</td>\n",
       "      <td>3.266448</td>\n",
       "      <td>2.867779</td>\n",
       "      <td>2.689926</td>\n",
       "      <td>Iris-virginica</td>\n",
       "      <td>[0.0, 0.4, 0.6]</td>\n",
       "    </tr>\n",
       "    <tr>\n",
       "      <th>23</th>\n",
       "      <td>7.574369</td>\n",
       "      <td>4.684717</td>\n",
       "      <td>5.815662</td>\n",
       "      <td>2.181849</td>\n",
       "      <td>Iris-virginica</td>\n",
       "      <td>[0.0, 0.0, 1.0]</td>\n",
       "    </tr>\n",
       "  </tbody>\n",
       "</table>\n",
       "</div>"
      ],
      "text/plain": [
       "    SepalLengthCm  SepalWidthCm  PetalLengthCm  PetalWidthCm     Predictions  \\\n",
       "7        7.889010      3.340166       5.408251      2.975369  Iris-virginica   \n",
       "18       1.478927      4.230986       4.084285      1.771042  Iris-virginica   \n",
       "9        5.498212      4.495547       2.223028      2.014512     Iris-setosa   \n",
       "12       6.672595      3.266448       2.867779      2.689926  Iris-virginica   \n",
       "23       7.574369      4.684717       5.815662      2.181849  Iris-virginica   \n",
       "\n",
       "        Probability  \n",
       "7   [0.0, 0.0, 1.0]  \n",
       "18  [0.1, 0.3, 0.6]  \n",
       "9   [0.4, 0.2, 0.4]  \n",
       "12  [0.0, 0.4, 0.6]  \n",
       "23  [0.0, 0.0, 1.0]  "
      ]
     },
     "execution_count": 29,
     "metadata": {},
     "output_type": "execute_result"
    }
   ],
   "source": [
    "online_result_df.sample(5)"
   ]
  },
  {
   "cell_type": "markdown",
   "metadata": {},
   "source": [
    "### 5b: Online Scoring - Using WML Python Client\n",
    "\n",
    "* An Online Deployment can be accessed through the <b>Python Client</b>, <b>Command Line Interface (CLI)</b>, or <b>REST API.</b><br><br>\n",
    "* For Online Scoring through <b>PYTHON CLIENT: </b>\n",
    "<br>\n",
    "&emsp; <b>1.</b> Define online deployment name and retrieve ID (your online model should have already been deployed).  <br>\n",
    "&emsp; <b>2.</b> Construct the scoring payload, and score results<br> \n",
    "&emsp; &emsp; &emsp; Boiler Code is used for the scoring. This can be found in the documentation.<br> \n",
    "&emsp; &emsp; &emsp;<b>***</b> WML is a stickler for the payload input. Valid payloads for scoring are list of <b>values, pandas or numpy dataframes.</b><br>\n",
    "&emsp; &emsp; &emsp;<b>***</b> Online score by running <b> wml_client.deployments.score(< deployment id > , < scoring payload >)</b><br>\n",
    "&emsp; <b>4.</b> Compile output. Compiling output is at user discretion."
   ]
  },
  {
   "cell_type": "code",
   "execution_count": 30,
   "metadata": {},
   "outputs": [
    {
     "name": "stdout",
     "output_type": "stream",
     "text": [
      "found id!\n"
     ]
    }
   ],
   "source": [
    "#1. Setting and finding deployment name \n",
    "online_deployment_name = 'IRIS_RF_Online_Deployment'\n",
    "online_deployment_id = None\n",
    "\n",
    "for dep in wml_client.deployments.get_details()['resources']:\n",
    "    if dep['entity']['name'] == online_deployment_name:\n",
    "        print('found id!')\n",
    "        online_deployment_id = dep['metadata']['guid']    ### HERE WE ARE FINDING CORRESPONDING DEPLOYMENT ID \n",
    "        break\n",
    "if online_deployment_id == None: print('did not find id')"
   ]
  },
  {
   "cell_type": "code",
   "execution_count": 31,
   "metadata": {},
   "outputs": [],
   "source": [
    "#2. Construct authentication header, scoring payload, and score results \n",
    "scoring_payload = {wml_client.deployments.ScoringMetaNames.INPUT_DATA: [{'fields': score_data.columns.tolist(), 'values': score_data.values.tolist()  }]}\n",
    "online_scoring_results = wml_client.deployments.score(online_deployment_id, scoring_payload)"
   ]
  },
  {
   "cell_type": "code",
   "execution_count": 32,
   "metadata": {},
   "outputs": [
    {
     "data": {
      "text/html": [
       "<div>\n",
       "<style scoped>\n",
       "    .dataframe tbody tr th:only-of-type {\n",
       "        vertical-align: middle;\n",
       "    }\n",
       "\n",
       "    .dataframe tbody tr th {\n",
       "        vertical-align: top;\n",
       "    }\n",
       "\n",
       "    .dataframe thead th {\n",
       "        text-align: right;\n",
       "    }\n",
       "</style>\n",
       "<table border=\"1\" class=\"dataframe\">\n",
       "  <thead>\n",
       "    <tr style=\"text-align: right;\">\n",
       "      <th></th>\n",
       "      <th>SepalLengthCm</th>\n",
       "      <th>SepalWidthCm</th>\n",
       "      <th>PetalLengthCm</th>\n",
       "      <th>PetalWidthCm</th>\n",
       "      <th>Predictions</th>\n",
       "      <th>Probability</th>\n",
       "    </tr>\n",
       "  </thead>\n",
       "  <tbody>\n",
       "    <tr>\n",
       "      <th>13</th>\n",
       "      <td>3.948591</td>\n",
       "      <td>1.394412</td>\n",
       "      <td>2.633925</td>\n",
       "      <td>2.481594</td>\n",
       "      <td>Iris-virginica</td>\n",
       "      <td>[0.0, 0.4, 0.6]</td>\n",
       "    </tr>\n",
       "    <tr>\n",
       "      <th>36</th>\n",
       "      <td>5.601699</td>\n",
       "      <td>2.952200</td>\n",
       "      <td>5.286558</td>\n",
       "      <td>1.076065</td>\n",
       "      <td>Iris-virginica</td>\n",
       "      <td>[0.0, 0.3, 0.7]</td>\n",
       "    </tr>\n",
       "    <tr>\n",
       "      <th>47</th>\n",
       "      <td>1.606185</td>\n",
       "      <td>1.487365</td>\n",
       "      <td>6.468035</td>\n",
       "      <td>2.497372</td>\n",
       "      <td>Iris-virginica</td>\n",
       "      <td>[0.0, 0.3, 0.7]</td>\n",
       "    </tr>\n",
       "    <tr>\n",
       "      <th>7</th>\n",
       "      <td>7.889010</td>\n",
       "      <td>3.340166</td>\n",
       "      <td>5.408251</td>\n",
       "      <td>2.975369</td>\n",
       "      <td>Iris-virginica</td>\n",
       "      <td>[0.0, 0.0, 1.0]</td>\n",
       "    </tr>\n",
       "    <tr>\n",
       "      <th>38</th>\n",
       "      <td>7.841570</td>\n",
       "      <td>0.957114</td>\n",
       "      <td>5.852993</td>\n",
       "      <td>1.807020</td>\n",
       "      <td>Iris-virginica</td>\n",
       "      <td>[0.0, 0.0, 1.0]</td>\n",
       "    </tr>\n",
       "  </tbody>\n",
       "</table>\n",
       "</div>"
      ],
      "text/plain": [
       "    SepalLengthCm  SepalWidthCm  PetalLengthCm  PetalWidthCm     Predictions  \\\n",
       "13       3.948591      1.394412       2.633925      2.481594  Iris-virginica   \n",
       "36       5.601699      2.952200       5.286558      1.076065  Iris-virginica   \n",
       "47       1.606185      1.487365       6.468035      2.497372  Iris-virginica   \n",
       "7        7.889010      3.340166       5.408251      2.975369  Iris-virginica   \n",
       "38       7.841570      0.957114       5.852993      1.807020  Iris-virginica   \n",
       "\n",
       "        Probability  \n",
       "13  [0.0, 0.4, 0.6]  \n",
       "36  [0.0, 0.3, 0.7]  \n",
       "47  [0.0, 0.3, 0.7]  \n",
       "7   [0.0, 0.0, 1.0]  \n",
       "38  [0.0, 0.0, 1.0]  "
      ]
     },
     "execution_count": 32,
     "metadata": {},
     "output_type": "execute_result"
    }
   ],
   "source": [
    "#3. Compile Results\n",
    "score_result_columns = online_scoring_results['predictions'][0]['fields']\n",
    "score_result_data =online_scoring_results['predictions'][0]['values']\n",
    "\n",
    "online_result_df = score_data.copy()\n",
    "online_result_df['Predictions'] ,online_result_df['Probability'] = [x[0] for x in score_result_data ], [x[1] for x in score_result_data ]\n",
    "online_result_df['Predictions'] = spec_encode.inverse_transform(online_result_df['Predictions'])\n",
    "\n",
    "online_result_df.sample(5)"
   ]
  },
  {
   "cell_type": "markdown",
   "metadata": {},
   "source": [
    "### 5c: Batch Scoring\n",
    "\n",
    "* Batch scoring is extremely useful when you are setting up a pipeline that needs to score large amounts of data, at time intervals, or pulls/pushes into databases.<br>\n",
    "* Supported databses are Cloud Object Storage buckets (COS), DB2, PostgreSQL. \n",
    "* In the example, the scoring set is the same as the online datasets. This can be replaced by Database Connection,local csv files, etc. <br><br>\n",
    "* For Batch Scoring through <b>PYTHON CLIENT: </b><br>\n",
    "&emsp; <b>1.</b> Define batch deployment name and retrieve ID (your batch model should have already been deployed).<br>\n",
    "&emsp; <b>2.</b> Construct the scoring payload, and score results<br> \n",
    "&emsp; &emsp; &emsp; Boiler Code is used for the scoring. This can be found in the documentation.<br> \n",
    "&emsp; &emsp; &emsp;<b>***</b> WML is a stickler for the payload input. Valid payloads for scoring are list of <b>values, pandas or numpy dataframes.</b>\n",
    "<br>\n",
    "&emsp; &emsp; &emsp;<b>***</b> Batch score by running <b>client.deployents.create_job(< deployment id > , < scoring payload >)</b>\n",
    "<br>\n",
    "&emsp; &emsp; &emsp;<b>***</b> States of a job are 'queued'-->'running'-->'completed' or 'failed'</b>\n",
    "<br>\n",
    "&emsp; <b>4.</b> Compile output. Compiling output is at user discretion. "
   ]
  },
  {
   "cell_type": "code",
   "execution_count": 33,
   "metadata": {},
   "outputs": [
    {
     "name": "stdout",
     "output_type": "stream",
     "text": [
      "found id!\n"
     ]
    }
   ],
   "source": [
    "#1. Get the batch Deployment ID - Will be used for creating batch job for scoring \n",
    "batch_deployment_name = 'IRIS_RF_Batch_Deployment'\n",
    "batch_deployment_id = None\n",
    "\n",
    "for dep in wml_client.deployments.get_details()['resources']:\n",
    "    if dep['entity']['name'] == batch_deployment_name:\n",
    "        print('found id!')\n",
    "        batch_deployment_id = dep['metadata']['guid']    ### HERE WE ARE FINDING CORRESPONDING DEPLOYMENT ID \n",
    "        break\n",
    "if batch_deployment_id == None: print('did not find id') "
   ]
  },
  {
   "cell_type": "code",
   "execution_count": 34,
   "metadata": {},
   "outputs": [],
   "source": [
    "#2. Create batch scoring job *NOTE*- Jobs can only be created for batch deployments \n",
    "batch_scoring_job = wml_client.deployments.create_job(batch_deployment_id, scoring_payload)\n",
    "batch_scoring_id = batch_scoring_job['metadata']['guid']"
   ]
  },
  {
   "cell_type": "code",
   "execution_count": 35,
   "metadata": {},
   "outputs": [
    {
     "name": "stdout",
     "output_type": "stream",
     "text": [
      "model scored!\n"
     ]
    }
   ],
   "source": [
    "##Cell will stop running once model job is complete \n",
    "state = wml_client.deployments.get_job_status(batch_scoring_id)['state']\n",
    "while state !='completed':\n",
    "    state = wml_client.deployments.get_job_status(batch_scoring_id)['state']\n",
    "print('model scored!')"
   ]
  },
  {
   "cell_type": "code",
   "execution_count": 36,
   "metadata": {},
   "outputs": [
    {
     "data": {
      "text/html": [
       "<div>\n",
       "<style scoped>\n",
       "    .dataframe tbody tr th:only-of-type {\n",
       "        vertical-align: middle;\n",
       "    }\n",
       "\n",
       "    .dataframe tbody tr th {\n",
       "        vertical-align: top;\n",
       "    }\n",
       "\n",
       "    .dataframe thead th {\n",
       "        text-align: right;\n",
       "    }\n",
       "</style>\n",
       "<table border=\"1\" class=\"dataframe\">\n",
       "  <thead>\n",
       "    <tr style=\"text-align: right;\">\n",
       "      <th></th>\n",
       "      <th>SepalLengthCm</th>\n",
       "      <th>SepalWidthCm</th>\n",
       "      <th>PetalLengthCm</th>\n",
       "      <th>PetalWidthCm</th>\n",
       "      <th>Predictions</th>\n",
       "      <th>Probability</th>\n",
       "    </tr>\n",
       "  </thead>\n",
       "  <tbody>\n",
       "    <tr>\n",
       "      <th>36</th>\n",
       "      <td>5.601699</td>\n",
       "      <td>2.952200</td>\n",
       "      <td>5.286558</td>\n",
       "      <td>1.076065</td>\n",
       "      <td>2</td>\n",
       "      <td>[0.0, 0.3, 0.7]</td>\n",
       "    </tr>\n",
       "    <tr>\n",
       "      <th>39</th>\n",
       "      <td>2.700021</td>\n",
       "      <td>1.018216</td>\n",
       "      <td>2.989957</td>\n",
       "      <td>1.021377</td>\n",
       "      <td>1</td>\n",
       "      <td>[0.0, 0.8, 0.2]</td>\n",
       "    </tr>\n",
       "    <tr>\n",
       "      <th>0</th>\n",
       "      <td>6.490088</td>\n",
       "      <td>2.781614</td>\n",
       "      <td>2.957574</td>\n",
       "      <td>1.260220</td>\n",
       "      <td>1</td>\n",
       "      <td>[0.0, 1.0, 0.0]</td>\n",
       "    </tr>\n",
       "    <tr>\n",
       "      <th>23</th>\n",
       "      <td>7.574369</td>\n",
       "      <td>4.684717</td>\n",
       "      <td>5.815662</td>\n",
       "      <td>2.181849</td>\n",
       "      <td>2</td>\n",
       "      <td>[0.0, 0.0, 1.0]</td>\n",
       "    </tr>\n",
       "    <tr>\n",
       "      <th>33</th>\n",
       "      <td>6.831225</td>\n",
       "      <td>1.394038</td>\n",
       "      <td>6.053305</td>\n",
       "      <td>1.464198</td>\n",
       "      <td>2</td>\n",
       "      <td>[0.0, 0.1, 0.9]</td>\n",
       "    </tr>\n",
       "  </tbody>\n",
       "</table>\n",
       "</div>"
      ],
      "text/plain": [
       "    SepalLengthCm  SepalWidthCm  PetalLengthCm  PetalWidthCm  Predictions  \\\n",
       "36       5.601699      2.952200       5.286558      1.076065            2   \n",
       "39       2.700021      1.018216       2.989957      1.021377            1   \n",
       "0        6.490088      2.781614       2.957574      1.260220            1   \n",
       "23       7.574369      4.684717       5.815662      2.181849            2   \n",
       "33       6.831225      1.394038       6.053305      1.464198            2   \n",
       "\n",
       "        Probability  \n",
       "36  [0.0, 0.3, 0.7]  \n",
       "39  [0.0, 0.8, 0.2]  \n",
       "0   [0.0, 1.0, 0.0]  \n",
       "23  [0.0, 0.0, 1.0]  \n",
       "33  [0.0, 0.1, 0.9]  "
      ]
     },
     "execution_count": 36,
     "metadata": {},
     "output_type": "execute_result"
    }
   ],
   "source": [
    "#3. Compile Results\n",
    "batch_scoring_results = wml_client.deployments.get_job_details(batch_scoring_id)\n",
    "\n",
    "score_result_columns = batch_scoring_results['entity']['scoring']['predictions'][0]['fields']\n",
    "score_result_data =batch_scoring_results['entity']['scoring']['predictions'][0]['values']\n",
    "\n",
    "batch_result_df = score_data.copy()\n",
    "batch_result_df['Predictions'] ,batch_result_df['Probability'] = [x[0] for x in score_result_data ], [x[1] for x in score_result_data ]\n",
    "\n",
    "batch_result_df.sample(5)"
   ]
  },
  {
   "cell_type": "markdown",
   "metadata": {},
   "source": [
    "## Section6 Function Deployments\n",
    "\n",
    "* There are often scenarios where extremely custom transformations, feature engineering, and processes need to be performed.\n",
    "* WML allows you to deploy python scripts as 'Functions' to circumvent any possible software limitations.\n",
    "* A function can be **anything** (model, script, process, etc). In this case, the function will be a **scoring pipeline.**\n",
    "* The following script creates a **iris_dataset_scoring_pipeline** function that takes the payload data, squares the values of **PedalWidthCm** column, and scores the data with a Random Forest Algorithm."
   ]
  },
  {
   "cell_type": "markdown",
   "metadata": {},
   "source": [
    "### 6a: Package and Model Creation \n",
    "\n",
    "**Steps for Custom Transformer and Model Creation :** <br> \n",
    "**1.** Create custom_transofrmer.py script. The created package, **ValueSquared**, squares the values in an array. Validate that package works correctly.  <br>\n",
    "**2.** Random Forest Model is trained with new feature **PedalWidthCm2.** <br> \n",
    "&emsp; This is the same algorithm as **Section 2** with the exception of the additional feature <br> \n",
    "**3.** Transformer and Model are saved as **.txt** files and pushed into project space. IDS are created. They will be called by the function later.  <br>\n",
    "&emsp; **Note** that the RF model is deployed using the python **joblib** library.<br>\n",
    "<br>\n",
    "    <b>**Please Note:</b> The Scikit-Learn library is <b>downgraded</b> from 0.22 to 0.20 due to troubles deploying function on WML"
   ]
  },
  {
   "cell_type": "code",
   "execution_count": 37,
   "metadata": {},
   "outputs": [
    {
     "name": "stdout",
     "output_type": "stream",
     "text": [
      "  Successfully uninstalled scikit-learn-0.20.0\n",
      "Successfully installed scikit-learn-0.20.0\n"
     ]
    }
   ],
   "source": [
    "#--Downgrading Scikit-Learn version\n",
    "!pip uninstall scikit-learn -y | tail -n 1\n",
    "!pip install scikit-learn==0.20 | tail -n 1\n",
    "import sklearn\n",
    "from sklearn.externals import joblib\n",
    "from sklearn.ensemble import RandomForestClassifier\n",
    "from sklearn.model_selection import train_test_split"
   ]
  },
  {
   "cell_type": "code",
   "execution_count": 38,
   "metadata": {},
   "outputs": [
    {
     "name": "stdout",
     "output_type": "stream",
     "text": [
      "Overwriting /project_data/data_asset/custom_transformer.py\n"
     ]
    }
   ],
   "source": [
    "%%writefile  /project_data/data_asset/custom_transformer.py   \n",
    "#make sure magic function appears in first line of cell! \n",
    "\n",
    "#Transformer Script \n",
    "class ValueSquared:\n",
    "    \"\"\"Takes a pandas series and squares the values and outputs the tranformed values\"\"\"\n",
    "    \n",
    "    def __init__(self, column):\n",
    "        self.column = column\n",
    "    \n",
    "    def square(self):\n",
    "        squared_col = self.column.map(lambda x : x**2)\n",
    "        \n",
    "        return squared_col"
   ]
  },
  {
   "cell_type": "code",
   "execution_count": 39,
   "metadata": {},
   "outputs": [],
   "source": [
    "#Validates package was created correctly\n",
    "import sys\n",
    "sys.path.insert(0, '/project_data/data_asset/')"
   ]
  },
  {
   "cell_type": "code",
   "execution_count": 40,
   "metadata": {},
   "outputs": [],
   "source": [
    "from custom_transformer import ValueSquared as vs"
   ]
  },
  {
   "cell_type": "code",
   "execution_count": 41,
   "metadata": {},
   "outputs": [],
   "source": [
    "#Model Creation\n",
    "\n",
    "X2 = df.drop(['Id','Species'], axis = 1)\n",
    "X2['PetalWidthCm2'] = vs(df.PetalWidthCm).square() ##Note that we created this in STEP 6A\n",
    "y2 = df.Species\n",
    "\n",
    "X_train2, X_test2, y_train2, y_test2 = train_test_split(X2, y2, test_size=0.2, random_state=10, stratify=y2)\n",
    "\n",
    "random_forest = RandomForestClassifier()\n",
    "\n",
    "model2 = random_forest.fit( X_train2, y_train2 )"
   ]
  },
  {
   "cell_type": "code",
   "execution_count": 42,
   "metadata": {},
   "outputs": [
    {
     "name": "stdout",
     "output_type": "stream",
     "text": [
      "Creating data asset...\n",
      "SUCCESS\n",
      "Creating data asset...\n",
      "SUCCESS\n"
     ]
    }
   ],
   "source": [
    "#Saving Custom Transformer Package and creating ID. This will be called by the scoring function \n",
    "create_script_asset_details = wml_client.data_assets.create(\"custom_transformer.py\", \"/project_data/data_asset/custom_transformer.py\")\n",
    "custom_transformer_uid = create_script_asset_details['metadata']['guid']\n",
    "\n",
    "\n",
    "#Saving Random Forest Model and creating ID. This will be called by the scoring function \n",
    "joblib.dump(model2, '/project_data/data_asset/IRIS_RF_MODEL.txt')\n",
    "\n",
    "random_forest_model_asset_details = wml_client.data_assets.create('RF_MODEL.joblib', \"/project_data/data_asset/IRIS_RF_MODEL.txt\")\n",
    "random_forest_uid = random_forest_model_asset_details['metadata']['guid']"
   ]
  },
  {
   "cell_type": "markdown",
   "metadata": {},
   "source": [
    "### 6b: Scoring Function Creation\n",
    "- At a high level, this scoring function is a python script that:\n",
    "    1. Gains access to the project space\n",
    "        - The same **CREDENTIALS** and **wml_credentials** paramaters defined in **Section 3** are used. \n",
    "        - The **Model ID and Custom Transformer ID** defined in step **6a** are additional parameters used. \n",
    "    2. Downloads the Custom Transformer and RF Model\n",
    "        - Methods **get_data_href, get_data_asset_href, get_attachment_href, handle_response** construct parameters needed to download assets (model, custom transformer). \n",
    "        - Method **download_asset** returns the href link needed to download the asset.  \n",
    "    3. Munges and scores the payload data\n",
    "        - Method **score** does the munging and scoring. Note that this leverages the downloaded assets.  \n",
    "        - Returns model scores in an identical format as Batch/Online output. "
   ]
  },
  {
   "cell_type": "code",
   "execution_count": 43,
   "metadata": {},
   "outputs": [],
   "source": [
    "# Credentials to access assets in WML from function\n",
    "ai_parms = {\n",
    "    \"wml_credentials\": wml_credentials,  \n",
    "    \"credentials\" : CREDENTIALS, \n",
    "    \"project_uid\": os.environ['PROJECT_ID'],  \n",
    "    'header' :  {'Content-Type': 'application/json'},\n",
    "    \"custom_transformer_uid\": custom_transformer_uid,  #defined in 6a\n",
    "    \"random_forest_uid\": random_forest_uid,   #defined in 6a\n",
    "    \"parms\" : {'space_id' : space_id}\n",
    "}\n",
    "\n",
    "\n",
    "def iris_dataset_scoring_pipeline(parms = ai_parms):\n",
    "    \n",
    "    import requests\n",
    "    import json\n",
    "    from sklearn.externals import joblib\n",
    "    from watson_machine_learning_client import WatsonMachineLearningAPIClient\n",
    "    import pandas as pd\n",
    "    from requests.auth import HTTPBasicAuth\n",
    "    import os\n",
    "    \n",
    "    global model\n",
    "    \n",
    "    \n",
    "    # Access token expires so you need to generate one inside the function\n",
    "    # For this reason you can't hardcode the token\n",
    "    def generate_access_token():\n",
    "        headers={}\n",
    "        headers[\"Accept\"] = \"application/json\"\n",
    "        auth = HTTPBasicAuth(parms['credentials'][\"username\"], parms['credentials'][\"password\"])\n",
    "\n",
    "        CP4D_TOKEN_URL= parms['credentials'][\"url\"] + \"/v1/preauth/validateAuth\"\n",
    "\n",
    "        response = requests.get(CP4D_TOKEN_URL, headers=headers, auth=auth, verify=False)\n",
    "        json_data = response.json()\n",
    "        cp4d_access_token = json_data['accessToken']\n",
    "        return cp4d_access_token\n",
    "    \n",
    "    def get_data_asset_href(asset_id, wml_credentials):\n",
    "        DATA_ASSET = u'{}/v2/data_assets/{}'\n",
    "        return DATA_ASSET.format(wml_credentials['url'],asset_id)\n",
    "\n",
    "    def get_attachment_href(asset_id,attachment_id, wml_credentials):\n",
    "        ATTACHMENT = \"{}/v2/assets/{}/attachments/{}\"\n",
    "        return ATTACHMENT.format(wml_credentials['url'],asset_id,attachment_id)\n",
    "\n",
    "    # Function for error handling\n",
    "    def handle_response(expected_status_code, operationName, response, json_response=True):\n",
    "        if response.status_code == expected_status_code:\n",
    "            if json_response:\n",
    "                try:\n",
    "                    return response.json()\n",
    "                except Exception as e:\n",
    "                    raise print(u'Failure during parsing json response: \\'{}\\''.format(response.text), e)\n",
    "            else:\n",
    "                return response.text\n",
    "    \n",
    "    # Loads in the data from the information collected using the above functions        \n",
    "    def download_asset(asset_id, filename):\n",
    "        import requests\n",
    "        \n",
    "        asset_response = requests.get(get_data_asset_href(asset_id, parms['wml_credentials']), params=parms['parms'],\n",
    "                                          headers=parms['header'], verify=False)\n",
    "\n",
    "        asset_details = handle_response(200, u'get assets', asset_response)\n",
    "        attachment_id = asset_details[\"attachments\"][0][\"id\"]\n",
    "\n",
    "        response = requests.get(get_attachment_href(asset_id, attachment_id, parms['wml_credentials']), params=parms['parms'],\n",
    "                                      headers=parms['header'], verify=False)\n",
    "        attachment_signed_url = response.json()[\"url\"]\n",
    "\n",
    "        att_response = requests.get(parms['wml_credentials'][\"url\"]+attachment_signed_url,\n",
    "                                        verify=False)\n",
    "\n",
    "        downloaded_asset = att_response.content\n",
    "\n",
    "        with open(filename, 'wb') as f:\n",
    "            f.write(downloaded_asset)\n",
    "        download_path = os.getcwd() + '/' + filename\n",
    "        \n",
    "        return download_path\n",
    "    \n",
    "    #Get token\n",
    "    token = generate_access_token()\n",
    "    parms['header']['Authorization'] =  'Bearer ' + token\n",
    "    \n",
    "    # call the function to download the prep script and return the path\n",
    "    prep_script_path = download_asset(parms['custom_transformer_uid'], 'custom_transformer.py')\n",
    "    \n",
    "    # call the function to download the joblib file and return the path\n",
    "    model_path = download_asset(parms['random_forest_uid'], 'IRIS_RF_MODEL.joblib')\n",
    "    #return model_path\n",
    "    model = joblib.load(model_path)\n",
    "    \n",
    "    # Import in your custom transformer\n",
    "    from custom_transformer import ValueSquared\n",
    "    \n",
    "    \n",
    "    def score( payload ):\n",
    "        import json\n",
    "        global client\n",
    "        global model\n",
    "\n",
    "        payload_data = pd.DataFrame(payload['input_data'][0]['values'], columns = payload['input_data'][0]['fields'] )\n",
    "        payload_data['PedalWidthCm2'] = ValueSquared(payload_data.PetalWidthCm).square()\n",
    "        \n",
    "        pred = model.predict(payload_data)\n",
    "        prob = [ [str(x[0]),str(x[1]),str(x[2])] for x in model.predict_proba(payload_data)] \n",
    "        score_ = {\"predictions\": [{\"fields\": [\"prediction\", \"probability\"], \"values\": [[ str(x), y ] for x,y in zip(pred ,prob)]}]}\n",
    "        response_scoring = json.dumps(score_)\n",
    "        return json.loads(response_scoring)\n",
    "\n",
    "    return score"
   ]
  },
  {
   "cell_type": "code",
   "execution_count": 44,
   "metadata": {},
   "outputs": [
    {
     "data": {
      "text/plain": [
       "{'predictions': [{'fields': ['prediction', 'probability'],\n",
       "   'values': [['1', ['0.0', '1.0', '0.0']],\n",
       "    ['2', ['0.0', '0.0', '1.0']],\n",
       "    ['2', ['0.0', '0.0', '1.0']],\n",
       "    ['2', ['0.0', '0.4', '0.6']],\n",
       "    ['2', ['0.0', '0.0', '1.0']],\n",
       "    ['2', ['0.0', '0.0', '1.0']],\n",
       "    ['1', ['0.1', '0.9', '0.0']],\n",
       "    ['2', ['0.0', '0.0', '1.0']],\n",
       "    ['2', ['0.0', '0.3', '0.7']],\n",
       "    ['2', ['0.1', '0.4', '0.5']],\n",
       "    ['2', ['0.1', '0.1', '0.8']],\n",
       "    ['2', ['0.0', '0.0', '1.0']],\n",
       "    ['2', ['0.0', '0.2', '0.8']],\n",
       "    ['2', ['0.1', '0.0', '0.9']],\n",
       "    ['1', ['0.0', '0.6', '0.4']],\n",
       "    ['0', ['0.7', '0.3', '0.0']],\n",
       "    ['2', ['0.0', '0.0', '1.0']],\n",
       "    ['1', ['0.0', '1.0', '0.0']],\n",
       "    ['2', ['0.0', '0.4', '0.6']],\n",
       "    ['1', ['0.0', '1.0', '0.0']],\n",
       "    ['2', ['0.0', '0.1', '0.9']],\n",
       "    ['2', ['0.0', '0.0', '1.0']],\n",
       "    ['2', ['0.1', '0.0', '0.9']],\n",
       "    ['2', ['0.0', '0.0', '1.0']],\n",
       "    ['1', ['0.0', '0.7', '0.3']],\n",
       "    ['2', ['0.0', '0.0', '1.0']],\n",
       "    ['1', ['0.1', '0.9', '0.0']],\n",
       "    ['2', ['0.0', '0.0', '1.0']],\n",
       "    ['2', ['0.1', '0.1', '0.8']],\n",
       "    ['2', ['0.0', '0.0', '1.0']],\n",
       "    ['2', ['0.0', '0.1', '0.9']],\n",
       "    ['2', ['0.0', '0.1', '0.9']],\n",
       "    ['1', ['0.0', '0.6', '0.4']],\n",
       "    ['2', ['0.0', '0.2', '0.8']],\n",
       "    ['2', ['0.0', '0.0', '1.0']],\n",
       "    ['2', ['0.0', '0.1', '0.9']],\n",
       "    ['1', ['0.0', '0.7', '0.3']],\n",
       "    ['2', ['0.0', '0.1', '0.9']],\n",
       "    ['2', ['0.0', '0.0', '1.0']],\n",
       "    ['1', ['0.0', '1.0', '0.0']],\n",
       "    ['1', ['0.0', '0.5', '0.5']],\n",
       "    ['1', ['0.1', '0.9', '0.0']],\n",
       "    ['2', ['0.1', '0.3', '0.6']],\n",
       "    ['0', ['0.4', '0.4', '0.2']],\n",
       "    ['2', ['0.0', '0.1', '0.9']],\n",
       "    ['2', ['0.0', '0.4', '0.6']],\n",
       "    ['1', ['0.0', '1.0', '0.0']],\n",
       "    ['2', ['0.0', '0.0', '1.0']],\n",
       "    ['1', ['0.0', '0.5', '0.5']],\n",
       "    ['1', ['0.0', '0.6', '0.4']]]}]}"
      ]
     },
     "execution_count": 44,
     "metadata": {},
     "output_type": "execute_result"
    }
   ],
   "source": [
    "#Make sure function is loading correctly\n",
    "iris_dataset_scoring_pipeline()(scoring_payload)"
   ]
  },
  {
   "cell_type": "markdown",
   "metadata": {},
   "source": [
    "### 4c: Function Deployment and Scoring \n",
    "\n",
    "* The Function Deployment cycle is the same as Batch/Online Deployment.\n",
    "* The Function Scoring is the same as Online Scoring with REST API Endpoint. \n",
    "\n",
    "**Steps for Function Deployments:** <br> \n",
    "**1.** Function and deployment names are set <br>\n",
    "**2.** Deployment space checked for any existing deployments set to what was named in Step1. If so, deployment and associated function are deleted. New ones are set. <br> \n",
    "**3.** Function is pushed and stored in deployment space. Function ID created. <br> \n",
    "&emsp; &emsp; &emsp; For detailed steps on metadata for space storing, refer to the <a href=\"https://wml-api-pyclient.mybluemix.net/#repository\"> metadata documentation.</a> <br>&emsp; &emsp; &emsp; Accurate environment specifications are <b>essential.</b> For sepcification syntax, refer to <a href=\"https://www.ibm.com/support/producthub/icpdata/docs/content/SSQNUZ_current/wsj/wmls/wmls-deploy-python-types.html\">syntax documentation.</a> <br> \n",
    "&emsp; &emsp; &emsp; If using Scikit-Learn, use <b>sklearn.__version__</b> command to get scikit version and <b>! python --version</b> for python version <br>\n",
    "**4.** Function is deployed from deployment space. Function ID created. <br>  \n",
    "\n",
    "**Steps for Function Scoring (same as scoring Online with REST API)** <br> \n",
    "**1.** Define online deployment name and retrieve ID (your online model should have already been deployed). <br>\n",
    "**2.** Retrieve the Online URL by either constructing the URL or calling **wml_client.deployments.get_details(< function id >).** <br>\n",
    "**3.** Construct authentication header (using IAM Token), scoring payload, and score results <br> \n",
    "**4.** Compile output. Compiling output is at user discretion. <br>  "
   ]
  },
  {
   "cell_type": "code",
   "execution_count": 45,
   "metadata": {},
   "outputs": [],
   "source": [
    "#1. Setting and finding deployment name \n",
    "FUNCTION_NAME = 'IRIS_PY_Scoring_Function'\n",
    "FUNCTION_DEPLOYMENT_NAME = 'IRIS_PY_Function_Deployment'"
   ]
  },
  {
   "cell_type": "code",
   "execution_count": 46,
   "metadata": {},
   "outputs": [],
   "source": [
    "#2. Remove any deployments and associated function with same name\n",
    "deployment_details = wml_client.deployments.get_details()\n",
    "for deployment in deployment_details['resources']:\n",
    "    deployment_id = deployment['metadata']['guid']\n",
    "    model_id = deployment['entity']['asset']['href'].split('/')[3].split('?')[0]\n",
    "    if deployment['entity']['name'] == FUNCTION_DEPLOYMENT_NAME:\n",
    "        print('Deleting deployment id', deployment_id)\n",
    "        wml_client.deployments.delete(deployment_id)\n",
    "        print('Deleting model id', model_id)\n",
    "        wml_client.repository.delete(model_id)"
   ]
  },
  {
   "cell_type": "code",
   "execution_count": 47,
   "metadata": {},
   "outputs": [],
   "source": [
    "#3. Save Function to Space \n",
    "space_metadata = {\n",
    "    wml_client.repository.FunctionMetaNames.NAME: FUNCTION_NAME,\n",
    "    wml_client.repository.FunctionMetaNames.DESCRIPTION: FUNCTION_NAME,\n",
    "    wml_client.repository.FunctionMetaNames.RUNTIME_UID: \"scikit-learn_0.20-py3.6\",\n",
    "    wml_client.repository.FunctionMetaNames.SPACE_UID: space_id\n",
    "}\n",
    "\n",
    "stored_function_details = wml_client.repository.store_function(meta_props = space_metadata, \n",
    "                                                                  function = iris_dataset_scoring_pipeline)\n"
   ]
  },
  {
   "cell_type": "code",
   "execution_count": 48,
   "metadata": {},
   "outputs": [
    {
     "name": "stdout",
     "output_type": "stream",
     "text": [
      "\n",
      "\n",
      "#######################################################################################\n",
      "\n",
      "Synchronous deployment creation for uid: '99e0614d-ab9d-485f-9510-58be78dae443' started\n",
      "\n",
      "#######################################################################################\n",
      "\n",
      "\n",
      "initializing...\n",
      "ready\n",
      "\n",
      "\n",
      "------------------------------------------------------------------------------------------------\n",
      "Successfully finished deployment creation, deployment_uid='31a56808-56be-41a3-8461-4be9ce946978'\n",
      "------------------------------------------------------------------------------------------------\n",
      "\n",
      "\n"
     ]
    }
   ],
   "source": [
    "#4. Deploy the Function\n",
    "meta_props_deployment = {\n",
    "   wml_client.deployments.ConfigurationMetaNames.NAME: FUNCTION_DEPLOYMENT_NAME,\n",
    "   wml_client.deployments.ConfigurationMetaNames.DESCRIPTION: FUNCTION_DEPLOYMENT_NAME,\n",
    "   wml_client.deployments.ConfigurationMetaNames.TAGS : [{'value' : 'IRIS_PYTHON_FUNCTION_TAG'}],\n",
    "   wml_client.deployments.ConfigurationMetaNames.ONLINE: {}\n",
    "}\n",
    "\n",
    "function_uid = wml_client.repository.get_function_uid(stored_function_details)\n",
    "\n",
    "deployment_details = wml_client.deployments.create(function_uid, meta_props=meta_props_deployment)\n",
    "\n",
    "scoring_deployment_id = wml_client.deployments.get_uid(deployment_details)"
   ]
  },
  {
   "cell_type": "code",
   "execution_count": 49,
   "metadata": {},
   "outputs": [],
   "source": [
    "# NOTE: you must construct mltoken based on provided documentation\n",
    "header = {'Content-Type': 'application/json', 'Authorization': 'Bearer ' + token}\n",
    "\n",
    "# NOTE: manually define and pass the array(s) of values to be scored in the next line\n",
    "payload = scoring_payload\n",
    "\n",
    "scoring_url = wml_client.deployments.get_details(scoring_deployment_id)['entity']['status']['online_url']['url']\n",
    "response_scoring = requests.post(scoring_url, json=payload, headers=header, verify=False)\n",
    "function_scoring_results = json.loads(response_scoring.text)"
   ]
  },
  {
   "cell_type": "code",
   "execution_count": 50,
   "metadata": {},
   "outputs": [
    {
     "data": {
      "text/html": [
       "<div>\n",
       "<style scoped>\n",
       "    .dataframe tbody tr th:only-of-type {\n",
       "        vertical-align: middle;\n",
       "    }\n",
       "\n",
       "    .dataframe tbody tr th {\n",
       "        vertical-align: top;\n",
       "    }\n",
       "\n",
       "    .dataframe thead th {\n",
       "        text-align: right;\n",
       "    }\n",
       "</style>\n",
       "<table border=\"1\" class=\"dataframe\">\n",
       "  <thead>\n",
       "    <tr style=\"text-align: right;\">\n",
       "      <th></th>\n",
       "      <th>SepalLengthCm</th>\n",
       "      <th>SepalWidthCm</th>\n",
       "      <th>PetalLengthCm</th>\n",
       "      <th>PetalWidthCm</th>\n",
       "      <th>PetalWidthCm2</th>\n",
       "      <th>Predictions</th>\n",
       "      <th>Probability</th>\n",
       "    </tr>\n",
       "  </thead>\n",
       "  <tbody>\n",
       "    <tr>\n",
       "      <th>46</th>\n",
       "      <td>3.045210</td>\n",
       "      <td>3.257740</td>\n",
       "      <td>3.104550</td>\n",
       "      <td>1.534860</td>\n",
       "      <td>2.355795</td>\n",
       "      <td>1</td>\n",
       "      <td>[0.0, 1.0, 0.0]</td>\n",
       "    </tr>\n",
       "    <tr>\n",
       "      <th>29</th>\n",
       "      <td>1.399083</td>\n",
       "      <td>2.028729</td>\n",
       "      <td>5.234036</td>\n",
       "      <td>1.956076</td>\n",
       "      <td>3.826233</td>\n",
       "      <td>2</td>\n",
       "      <td>[0.0, 0.0, 1.0]</td>\n",
       "    </tr>\n",
       "    <tr>\n",
       "      <th>25</th>\n",
       "      <td>5.173941</td>\n",
       "      <td>1.461047</td>\n",
       "      <td>6.018446</td>\n",
       "      <td>2.316418</td>\n",
       "      <td>5.365793</td>\n",
       "      <td>2</td>\n",
       "      <td>[0.0, 0.0, 1.0]</td>\n",
       "    </tr>\n",
       "    <tr>\n",
       "      <th>21</th>\n",
       "      <td>5.012175</td>\n",
       "      <td>0.724621</td>\n",
       "      <td>5.924128</td>\n",
       "      <td>2.995747</td>\n",
       "      <td>8.974500</td>\n",
       "      <td>2</td>\n",
       "      <td>[0.0, 0.0, 1.0]</td>\n",
       "    </tr>\n",
       "    <tr>\n",
       "      <th>43</th>\n",
       "      <td>3.346034</td>\n",
       "      <td>4.489802</td>\n",
       "      <td>5.230575</td>\n",
       "      <td>0.765772</td>\n",
       "      <td>0.586407</td>\n",
       "      <td>0</td>\n",
       "      <td>[0.4, 0.4, 0.2]</td>\n",
       "    </tr>\n",
       "  </tbody>\n",
       "</table>\n",
       "</div>"
      ],
      "text/plain": [
       "    SepalLengthCm  SepalWidthCm  PetalLengthCm  PetalWidthCm  PetalWidthCm2  \\\n",
       "46       3.045210      3.257740       3.104550      1.534860       2.355795   \n",
       "29       1.399083      2.028729       5.234036      1.956076       3.826233   \n",
       "25       5.173941      1.461047       6.018446      2.316418       5.365793   \n",
       "21       5.012175      0.724621       5.924128      2.995747       8.974500   \n",
       "43       3.346034      4.489802       5.230575      0.765772       0.586407   \n",
       "\n",
       "   Predictions      Probability  \n",
       "46           1  [0.0, 1.0, 0.0]  \n",
       "29           2  [0.0, 0.0, 1.0]  \n",
       "25           2  [0.0, 0.0, 1.0]  \n",
       "21           2  [0.0, 0.0, 1.0]  \n",
       "43           0  [0.4, 0.4, 0.2]  "
      ]
     },
     "execution_count": 50,
     "metadata": {},
     "output_type": "execute_result"
    }
   ],
   "source": [
    "#Compile Results\n",
    "score_result_columns = function_scoring_results['predictions'][0]['fields']\n",
    "score_result_data =function_scoring_results['predictions'][0]['values']\n",
    "\n",
    "function_result_df = score_data.copy()\n",
    "function_result_df['PetalWidthCm2'] = vs(function_result_df.PetalWidthCm).square() ##Note that this function was created in step 6A\n",
    "function_result_df.drop('PetalWidthCm', axis = 1)\n",
    "function_result_df['Predictions'] ,function_result_df['Probability'] = [x[0] for x in score_result_data ], [x[1] for x in score_result_data ]\n",
    "\n",
    "function_result_df.sample(5)"
   ]
  },
  {
   "cell_type": "markdown",
   "metadata": {},
   "source": [
    "## Developed by IBM CPAT team:\n",
    "Emilio Fiallos - Data Scientist      \n",
    "Kevin Potter - Data Scientist"
   ]
  }
 ],
 "metadata": {
  "kernelspec": {
   "display_name": "Python 3",
   "language": "python",
   "name": "python3"
  },
  "language_info": {
   "codemirror_mode": {
    "name": "ipython",
    "version": 3
   },
   "file_extension": ".py",
   "mimetype": "text/x-python",
   "name": "python",
   "nbconvert_exporter": "python",
   "pygments_lexer": "ipython3",
   "version": "3.7.4"
  }
 },
 "nbformat": 4,
 "nbformat_minor": 1
}
